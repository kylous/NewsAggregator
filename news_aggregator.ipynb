{
 "cells": [
  {
   "cell_type": "code",
   "execution_count": 53,
   "metadata": {},
   "outputs": [],
   "source": [
    "import feedparser\n",
    "from sklearn.feature_extraction.text import TfidfVectorizer\n",
    "import string\n",
    "import numpy as np\n",
    "from sklearn.metrics.pairwise import cosine_similarity"
   ]
  },
  {
   "cell_type": "code",
   "execution_count": 54,
   "metadata": {},
   "outputs": [],
   "source": [
    "# Initializing TF-IDF vectorizer object for vectorizing data\n",
    "vectorizer = TfidfVectorizer()"
   ]
  },
  {
   "cell_type": "code",
   "execution_count": 55,
   "metadata": {},
   "outputs": [],
   "source": [
    "# Choose a Sample Title\n",
    "sample_title = 'War'"
   ]
  },
  {
   "cell_type": "code",
   "execution_count": 56,
   "metadata": {},
   "outputs": [],
   "source": [
    "# Collecting feeds for various News Outlets\n",
    "nyt_feed = feedparser.parse('https://rss.nytimes.com/services/xml/rss/nyt/HomePage.xml')\n",
    "bbc_feed = feedparser.parse('http://feeds.bbci.co.uk/news/world/rss.xml')"
   ]
  },
  {
   "cell_type": "code",
   "execution_count": 57,
   "metadata": {},
   "outputs": [],
   "source": [
    "# Create list of cleaned titles\n",
    "cleaned_titles = []\n",
    "\n",
    "# Cleaning NYT Feed Entries\n",
    "for entry in nyt_feed.entries:\n",
    "    # Remove punctuation from the title using str.translate() and string.punctuation\n",
    "    title = entry.title.translate(str.maketrans('', '', string.punctuation))\n",
    "    \n",
    "    # Convert the title to lowercase using str.lower()\n",
    "    title = title.lower()\n",
    "\n",
    "    # Append cleaned title to list\n",
    "    cleaned_titles.append(title)"
   ]
  },
  {
   "cell_type": "code",
   "execution_count": 58,
   "metadata": {},
   "outputs": [
    {
     "name": "stdout",
     "output_type": "stream",
     "text": [
      "few wordle players use consistent starting words but when they do it’s adieu\n",
      "pajaro flood is the latest sign of river levee risks during storms\n",
      "the political fingerpointing behind bank collapses and train derailments\n",
      "us says russian fighter jet hit american drone over black sea\n",
      "true liberation eludes kherson as russian shelling intensifies in ukraine\n"
     ]
    }
   ],
   "source": [
    "# Fit the vectorizer to the cleaned titles\n",
    "vectorizer.fit(cleaned_titles)\n",
    "\n",
    "# Transform the cleaned titles into a tf-idf matrix\n",
    "tfidf_matrix = vectorizer.transform(cleaned_titles)\n",
    "\n",
    "# Clean and transform the sample title into a tf-idf vector\n",
    "sample_vector = vectorizer.transform([sample_title.translate(str.maketrans('', '', string.punctuation)).lower()])\n",
    "\n",
    "similarity = cosine_similarity(sample_vector, tfidf_matrix)\n",
    "\n",
    "similar_indices = similarity.argsort()[0][::-1]\n",
    "\n",
    "for i in range(5):\n",
    "    print(cleaned_titles[similar_indices[i]])"
   ]
  },
  {
   "cell_type": "code",
   "execution_count": 59,
   "metadata": {},
   "outputs": [
    {
     "name": "stdout",
     "output_type": "stream",
     "text": [
      "(23, 185)\n"
     ]
    }
   ],
   "source": [
    "print(tfidf_matrix.shape)"
   ]
  }
 ],
 "metadata": {
  "kernelspec": {
   "display_name": "base",
   "language": "python",
   "name": "python3"
  },
  "language_info": {
   "codemirror_mode": {
    "name": "ipython",
    "version": 3
   },
   "file_extension": ".py",
   "mimetype": "text/x-python",
   "name": "python",
   "nbconvert_exporter": "python",
   "pygments_lexer": "ipython3",
   "version": "3.9.13"
  },
  "orig_nbformat": 4
 },
 "nbformat": 4,
 "nbformat_minor": 2
}
